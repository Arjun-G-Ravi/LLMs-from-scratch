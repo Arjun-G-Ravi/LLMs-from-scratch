{
 "cells": [
  {
   "cell_type": "markdown",
   "metadata": {},
   "source": [
    "# n-gram based LLM"
   ]
  },
  {
   "cell_type": "code",
   "execution_count": 2,
   "metadata": {},
   "outputs": [],
   "source": [
    "import numpy as np\n",
    "import pandas as pd\n",
    "import matplotlib.pyplot as plt\n",
    "from datasets import load_dataset"
   ]
  },
  {
   "cell_type": "code",
   "execution_count": 3,
   "metadata": {},
   "outputs": [],
   "source": [
    "dataset = load_dataset(\"MuskumPillerum/General-Knowledge\")\n",
    "ds = dataset['train']"
   ]
  },
  {
   "cell_type": "code",
   "execution_count": 20,
   "metadata": {},
   "outputs": [],
   "source": [
    "l = []\n",
    "for i,j in zip(ds['Question'], ds['Answer']):\n",
    "    # print(i,j)\n",
    "    l.append(f'<Start> Question: {i.lower()} Answer: {j.lower()} <Stop>')\n",
    "\n",
    "    break"
   ]
  },
  {
   "cell_type": "code",
   "execution_count": 24,
   "metadata": {},
   "outputs": [
    {
     "data": {
      "text/plain": [
       "['<Start> Question: what is artificial intelligence?\\nAnswer: artificial intelligence refers to the development of computer systems that can perform tasks that would typically require human intelligence, such as visual perception, speech recognition, decision-making, and language translation.\\\\n <Stop>']"
      ]
     },
     "execution_count": 24,
     "metadata": {},
     "output_type": "execute_result"
    }
   ],
   "source": [
    "l"
   ]
  },
  {
   "cell_type": "code",
   "execution_count": 27,
   "metadata": {},
   "outputs": [
    {
     "data": {
      "text/plain": [
       "['<Start>',\n",
       " 'Question:',\n",
       " 'what',\n",
       " 'is',\n",
       " 'artificial',\n",
       " 'intelligence?',\n",
       " 'Answer:',\n",
       " 'artificial',\n",
       " 'intelligence',\n",
       " 'refers',\n",
       " 'to',\n",
       " 'the',\n",
       " 'development',\n",
       " 'of',\n",
       " 'computer',\n",
       " 'systems',\n",
       " 'that',\n",
       " 'can',\n",
       " 'perform',\n",
       " 'tasks',\n",
       " 'that',\n",
       " 'would',\n",
       " 'typically',\n",
       " 'require',\n",
       " 'human',\n",
       " 'intelligence,',\n",
       " 'such',\n",
       " 'as',\n",
       " 'visual',\n",
       " 'perception,',\n",
       " 'speech',\n",
       " 'recognition,',\n",
       " 'decision-making,',\n",
       " 'and',\n",
       " 'language',\n",
       " 'translation.\\\\n',\n",
       " '<Stop>']"
      ]
     },
     "execution_count": 27,
     "metadata": {},
     "output_type": "execute_result"
    }
   ],
   "source": [
    "vocab = []\n",
    "for sentence in l:\n",
    "    vocab.extend(sentence.split())\n",
    "\n",
    "vocab\n",
    "\n"
   ]
  },
  {
   "cell_type": "code",
   "execution_count": 22,
   "metadata": {},
   "outputs": [
    {
     "name": "stdout",
     "output_type": "stream",
     "text": [
      "<Start> Question: what is artificial intelligence?\n",
      "Answer: artificial intelligence refers to the development of computer systems that can perform tasks that would typically require human intelligence, such as visual perception, speech recognition, decision-making, and language translation.\\n <Stop>\n"
     ]
    }
   ],
   "source": [
    "print(l[0])"
   ]
  }
 ],
 "metadata": {
  "kernelspec": {
   "display_name": "AI_ENV",
   "language": "python",
   "name": "python3"
  },
  "language_info": {
   "codemirror_mode": {
    "name": "ipython",
    "version": 3
   },
   "file_extension": ".py",
   "mimetype": "text/x-python",
   "name": "python",
   "nbconvert_exporter": "python",
   "pygments_lexer": "ipython3",
   "version": "3.10.12"
  }
 },
 "nbformat": 4,
 "nbformat_minor": 2
}
