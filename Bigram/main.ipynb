{
 "cells": [
  {
   "cell_type": "markdown",
   "metadata": {},
   "source": [
    "# Bigram-gram based LLM"
   ]
  },
  {
   "cell_type": "code",
   "execution_count": 1,
   "metadata": {},
   "outputs": [],
   "source": [
    "import numpy as np\n",
    "from datasets import load_dataset\n",
    "import torch\n",
    "import re"
   ]
  },
  {
   "cell_type": "markdown",
   "metadata": {},
   "source": [
    "## Dataset Preprocessing"
   ]
  },
  {
   "cell_type": "code",
   "execution_count": 2,
   "metadata": {},
   "outputs": [],
   "source": [
    "ds = load_dataset(\"MuskumPillerum/General-Knowledge\")['train']"
   ]
  },
  {
   "cell_type": "code",
   "execution_count": 3,
   "metadata": {},
   "outputs": [],
   "source": [
    "l = []\n",
    "for i,j in zip(ds['Question'][:10000], ds['Answer'][:10000]):\n",
    "    if i and j:\n",
    "        # print(i)\n",
    "        i = re.sub(r'[^a-zA-Z 0-9]', '',i.replace('\\\\n', \"\")) + ' ?'\n",
    "        j = re.sub(r'[^a-zA-Z 0-9]', '',j.replace('\\\\n', \"\"))\n",
    "        # j = j.replace('\\\\n', \"\")\n",
    "        l.append(f'<Start> Question: {i.lower()} Answer: {j.lower()} <Stop>')\n",
    "\n",
    "        # print(i)\n",
    "        # print(j)\n"
   ]
  },
  {
   "cell_type": "code",
   "execution_count": 4,
   "metadata": {},
   "outputs": [],
   "source": [
    "vocab = []\n",
    "for sentence in l:\n",
    "    vocab.extend(sentence.split())\n"
   ]
  },
  {
   "cell_type": "code",
   "execution_count": 5,
   "metadata": {},
   "outputs": [],
   "source": [
    "vocab_dict = {} \n",
    "ct = 0\n",
    "for i in set(vocab):\n",
    "    vocab_dict[i] = ct\n",
    "    ct += 1"
   ]
  },
  {
   "cell_type": "code",
   "execution_count": 6,
   "metadata": {},
   "outputs": [
    {
     "data": {
      "text/plain": [
       "(555927, 24466)"
      ]
     },
     "execution_count": 6,
     "metadata": {},
     "output_type": "execute_result"
    }
   ],
   "source": [
    "len(vocab), len(vocab_dict)"
   ]
  },
  {
   "cell_type": "code",
   "execution_count": 7,
   "metadata": {},
   "outputs": [],
   "source": [
    "rev_vocab_dict = {v:k for k,v in vocab_dict.items()}"
   ]
  },
  {
   "cell_type": "markdown",
   "metadata": {},
   "source": [
    "## Model Creation"
   ]
  },
  {
   "cell_type": "code",
   "execution_count": 8,
   "metadata": {},
   "outputs": [
    {
     "data": {
      "text/plain": [
       "(24466, 24466)"
      ]
     },
     "execution_count": 8,
     "metadata": {},
     "output_type": "execute_result"
    }
   ],
   "source": [
    "n_gram_matrix = np.ones((len(vocab_dict), len(vocab_dict)), dtype=np.float32) # 15 gig!\n",
    "n_gram_matrix.shape"
   ]
  },
  {
   "cell_type": "code",
   "execution_count": 9,
   "metadata": {},
   "outputs": [],
   "source": [
    "for sentence in l:\n",
    "    prev_word_index = vocab_dict['<Start>']\n",
    "    # print(sentence)\n",
    "    for word in sentence.split()[1:]:\n",
    "        index = vocab_dict[word]\n",
    "        n_gram_matrix[prev_word_index][index] += 100 # So that it is bigger than 1\n",
    "        prev_word_index = index\n"
   ]
  },
  {
   "cell_type": "markdown",
   "metadata": {},
   "source": [
    "# Inference"
   ]
  },
  {
   "cell_type": "code",
   "execution_count": 11,
   "metadata": {},
   "outputs": [
    {
     "name": "stdout",
     "output_type": "stream",
     "text": [
      "Question: what is a device drivers gurgle woodwork days pace snow ideally remedy enhance fuming aggregate asqrt45451245154518 rossini personalised options have led neem ? Answer: jeff openly 6561 screen boot pantry "
     ]
    }
   ],
   "source": [
    "out = vocab_dict['<Start>']\n",
    "len = 0\n",
    "while out != vocab_dict['<Stop>']:\n",
    "    row = torch.tensor(n_gram_matrix[out], dtype=torch.float32)\n",
    "    row = row/ row.sum()\n",
    "    \n",
    "    # print(row)\n",
    "    next_index = torch.multinomial(row, num_samples=1, replacement=True)\n",
    "    # print(next_index)\n",
    "    print(rev_vocab_dict[next_index.item()], end=' ')\n",
    "    out = next_index\n",
    "    len += 1\n",
    "    if len > 30: break"
   ]
  }
 ],
 "metadata": {
  "kernelspec": {
   "display_name": "AI_ENV",
   "language": "python",
   "name": "python3"
  },
  "language_info": {
   "codemirror_mode": {
    "name": "ipython",
    "version": 3
   },
   "file_extension": ".py",
   "mimetype": "text/x-python",
   "name": "python",
   "nbconvert_exporter": "python",
   "pygments_lexer": "ipython3",
   "version": "3.10.12"
  }
 },
 "nbformat": 4,
 "nbformat_minor": 2
}
