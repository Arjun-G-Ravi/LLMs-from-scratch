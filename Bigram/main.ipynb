{
 "cells": [
  {
   "cell_type": "markdown",
   "metadata": {},
   "source": [
    "# Bigram-gram based LLM"
   ]
  },
  {
   "cell_type": "code",
   "execution_count": null,
   "metadata": {},
   "outputs": [],
   "source": [
    "import numpy as np\n",
    "import pandas as pd\n",
    "import matplotlib.pyplot as plt\n",
    "from datasets import load_dataset\n",
    "import torch"
   ]
  },
  {
   "cell_type": "markdown",
   "metadata": {},
   "source": [
    "## Dataset Preprocessing"
   ]
  },
  {
   "cell_type": "code",
   "execution_count": null,
   "metadata": {},
   "outputs": [],
   "source": [
    "ds = load_dataset(\"MuskumPillerum/General-Knowledge\")['train']"
   ]
  },
  {
   "cell_type": "code",
   "execution_count": null,
   "metadata": {},
   "outputs": [],
   "source": [
    "l = []\n",
    "for i,j in zip(ds['Question'], ds['Answer']):\n",
    "    if i and j:\n",
    "        i = ''.join(i.replace(\".\", \"\").replace(\"'\", \"\").replace('\"', \"\").replace('\\\\n', \"\").split('?')) + ' ?'\n",
    "        j = j.replace('\\\\n', \"\")\n",
    "        l.append(f'<Start> Question: {i.lower()} Answer: {j.lower()} <Stop>')\n",
    "\n",
    "    # break"
   ]
  },
  {
   "cell_type": "code",
   "execution_count": null,
   "metadata": {},
   "outputs": [],
   "source": [
    "len(l)"
   ]
  },
  {
   "cell_type": "code",
   "execution_count": null,
   "metadata": {},
   "outputs": [],
   "source": [
    "vocab = []\n",
    "for sentence in l[:100]:\n",
    "    vocab.extend(sentence.split())\n",
    "\n",
    "len(vocab)\n"
   ]
  },
  {
   "cell_type": "code",
   "execution_count": null,
   "metadata": {},
   "outputs": [],
   "source": [
    "vocab = set(vocab)\n",
    "\n",
    "vocab_dict = {} \n",
    "ct = 0\n",
    "for i in vocab:\n",
    "    vocab_dict[i] = ct\n",
    "    ct += 1\n",
    "print(ct)"
   ]
  },
  {
   "cell_type": "code",
   "execution_count": null,
   "metadata": {},
   "outputs": [],
   "source": [
    "rev_vocab_dict = {v:k for k,v in vocab_dict.items()}"
   ]
  },
  {
   "cell_type": "markdown",
   "metadata": {},
   "source": [
    "## Model Creation"
   ]
  },
  {
   "cell_type": "code",
   "execution_count": null,
   "metadata": {},
   "outputs": [],
   "source": [
    "n_gram_matrix = np.zeros((len(vocab), len(vocab)), dtype=np.int8) +.1 # 15 gig!\n",
    "n_gram_matrix.shape"
   ]
  },
  {
   "cell_type": "code",
   "execution_count": null,
   "metadata": {},
   "outputs": [],
   "source": [
    "for sentence in l[:100]:\n",
    "    prev_word_index = vocab_dict['<Start>']\n",
    "    # print(sentence)\n",
    "    for word in sentence.split()[1:]:\n",
    "        index = vocab_dict[word]\n",
    "        n_gram_matrix[prev_word_index][index] += 100 # So that it is bigger than 1\n",
    "        prev_word_index = index\n",
    "        # print(word)\n",
    "        \n",
    "    # break"
   ]
  },
  {
   "cell_type": "code",
   "execution_count": null,
   "metadata": {},
   "outputs": [],
   "source": [
    "for i in n_gram_matrix:\n",
    "    print(i)"
   ]
  },
  {
   "cell_type": "code",
   "execution_count": null,
   "metadata": {},
   "outputs": [],
   "source": [
    "\n",
    "# print(i/i.sum())\n",
    "# next_index = torch.multinomial(torch.tensor(i, dtype=torch.float16), num_samples=20, replacement=True)\n",
    "# print(next_index)"
   ]
  },
  {
   "cell_type": "markdown",
   "metadata": {},
   "source": [
    "# Inference"
   ]
  },
  {
   "cell_type": "code",
   "execution_count": 36,
   "metadata": {},
   "outputs": [
    {
     "name": "stdout",
     "output_type": "stream",
     "text": [
      "Question: what is the cuttlefish is the longest migration among living over time. <Stop> "
     ]
    }
   ],
   "source": [
    "out = vocab_dict['<Start>']\n",
    "while out != vocab_dict['<Stop>']:\n",
    "    row = n_gram_matrix[out]\n",
    "    # print(out)\n",
    "    next_index = torch.multinomial(torch.tensor(row, dtype=torch.float16), num_samples=1, replacement=True)\n",
    "    # print(next_index)\n",
    "    print(rev_vocab_dict[next_index.item()], end=' ')\n",
    "    out = next_index\n",
    "    # break"
   ]
  },
  {
   "cell_type": "code",
   "execution_count": null,
   "metadata": {},
   "outputs": [],
   "source": [
    "rev_vocab_dict[577]"
   ]
  }
 ],
 "metadata": {
  "kernelspec": {
   "display_name": "AI_ENV",
   "language": "python",
   "name": "python3"
  },
  "language_info": {
   "codemirror_mode": {
    "name": "ipython",
    "version": 3
   },
   "file_extension": ".py",
   "mimetype": "text/x-python",
   "name": "python",
   "nbconvert_exporter": "python",
   "pygments_lexer": "ipython3",
   "version": "3.10.12"
  }
 },
 "nbformat": 4,
 "nbformat_minor": 2
}
